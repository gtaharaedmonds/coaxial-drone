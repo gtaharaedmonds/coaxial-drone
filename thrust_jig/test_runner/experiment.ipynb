{
 "cells": [
  {
   "cell_type": "code",
   "execution_count": 1,
   "metadata": {},
   "outputs": [],
   "source": [
    "from runner import TestRunner, TestPlan, TestStep"
   ]
  },
  {
   "cell_type": "code",
   "execution_count": 2,
   "metadata": {},
   "outputs": [
    {
     "name": "stdout",
     "output_type": "stream",
     "text": [
      "['/dev/ttyUSB0']\n",
      "['time_ms', 'top_motor_rpm', 'bottom_motor_rpm', 'batt_voltage_V', 'batt_current_A', 'top_current_A', 'bottom_current_A', 'thrust_N', 'torque_N']\n"
     ]
    }
   ],
   "source": [
    "print(TestRunner.available_ports())\n",
    "print(TestRunner.keys())"
   ]
  },
  {
   "cell_type": "code",
   "execution_count": 11,
   "metadata": {},
   "outputs": [
    {
     "name": "stdout",
     "output_type": "stream",
     "text": [
      "[TestCommand(time_ms=0, duration_ms=0, top_throttle=0, bottom_throttle=0, pitch_angle=0, roll_angle=0), TestCommand(time_ms=0, duration_ms=3000, top_throttle=0, bottom_throttle=10, pitch_angle=0, roll_angle=0), TestCommand(time_ms=3000, duration_ms=20, top_throttle=0, bottom_throttle=9, pitch_angle=0, roll_angle=0), TestCommand(time_ms=3020, duration_ms=20, top_throttle=0, bottom_throttle=8, pitch_angle=0, roll_angle=0), TestCommand(time_ms=3040, duration_ms=20, top_throttle=0, bottom_throttle=7, pitch_angle=0, roll_angle=0), TestCommand(time_ms=3060, duration_ms=20, top_throttle=0, bottom_throttle=6, pitch_angle=0, roll_angle=0), TestCommand(time_ms=3080, duration_ms=20, top_throttle=0, bottom_throttle=5, pitch_angle=0, roll_angle=0), TestCommand(time_ms=3100, duration_ms=20, top_throttle=0, bottom_throttle=4, pitch_angle=0, roll_angle=0), TestCommand(time_ms=3120, duration_ms=20, top_throttle=0, bottom_throttle=3, pitch_angle=0, roll_angle=0), TestCommand(time_ms=3140, duration_ms=20, top_throttle=0, bottom_throttle=2, pitch_angle=0, roll_angle=0), TestCommand(time_ms=3160, duration_ms=20, top_throttle=0, bottom_throttle=1, pitch_angle=0, roll_angle=0), TestCommand(time_ms=3180, duration_ms=20, top_throttle=0, bottom_throttle=0, pitch_angle=0, roll_angle=0)]\n"
     ]
    }
   ],
   "source": [
    "steps = [TestStep(bottom_throttle=40, duration_ms=3000)]\n",
    "plan = TestPlan(\n",
    "    \"test\",\n",
    "    steps=steps\n",
    ")\n",
    "print(plan.commands())"
   ]
  },
  {
   "cell_type": "code",
   "execution_count": 12,
   "metadata": {},
   "outputs": [
    {
     "name": "stdout",
     "output_type": "stream",
     "text": [
      "Arming...\n",
      "Running test...\n",
      "Test complete.\n"
     ]
    }
   ],
   "source": [
    "runner = TestRunner(port=\"/dev/ttyUSB0\")\n",
    "runner.run(plan=plan)"
   ]
  },
  {
   "cell_type": "code",
   "execution_count": 15,
   "metadata": {},
   "outputs": [
    {
     "data": {
      "image/png": "[encoded data removed]",
      "text/plain": [
       "<Figure size 432x432 with 1 Axes>"
      ]
     },
     "metadata": {
      "needs_background": "light"
     },
     "output_type": "display_data"
    }
   ],
   "source": [
    "runner.plot(\"bottom_motor_rpm\")"
   ]
  }
 ],
 "metadata": {
  "kernelspec": {
   "display_name": "Python 3",
   "language": "python",
   "name": "python3"
  },
  "language_info": {
   "codemirror_mode": {
    "name": "ipython",
    "version": 3
   },
   "file_extension": ".py",
   "mimetype": "text/x-python",
   "name": "python",
   "nbconvert_exporter": "python",
   "pygments_lexer": "ipython3",
   "version": "3.10.12"
  }
 },
 "nbformat": 4,
 "nbformat_minor": 2
}
