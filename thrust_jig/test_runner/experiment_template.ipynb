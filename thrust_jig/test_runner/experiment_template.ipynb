{
 "cells": [
  {
   "cell_type": "markdown",
   "metadata": {},
   "source": [
    "## Test Configuration\n",
    "| Duct Configuration  | Propeller Type       | Measured Propeller Diameter | Propeller Tip Profile | Duct Inner Diameter | Lip Configuration |\n",
    "| --------------------|----------------------|-----------------------------|-----------------------|---------------------| ------------------|\n",
    "| Open air / unducted | HQ Prop 5\" Hex Blade |                             | Original / Unshaved   | N/A                 | None              |\n",
    "\n",
    "## Procedure\n",
    "Initiate throttle sweep from 0-100% throttle in increments of 5%, holding each step for 5 seconds. For each aerodynamic configuration, disassemble and reassemble between tests."
   ]
  },
  {
   "cell_type": "code",
   "execution_count": null,
   "metadata": {},
   "outputs": [],
   "source": []
  }
 ],
 "metadata": {
  "language_info": {
   "name": "python"
  }
 },
 "nbformat": 4,
 "nbformat_minor": 2
}
